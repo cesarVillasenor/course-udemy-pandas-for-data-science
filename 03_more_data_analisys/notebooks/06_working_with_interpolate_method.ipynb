{
 "cells": [
  {
   "cell_type": "markdown",
   "source": [
    "# 06 Working with Interpolate Method"
   ],
   "metadata": {}
  },
  {
   "cell_type": "code",
   "execution_count": 46,
   "source": [
    "import pandas as pd\n",
    "import numpy as np"
   ],
   "outputs": [],
   "metadata": {}
  },
  {
   "cell_type": "code",
   "execution_count": 69,
   "source": [
    "n = np.nan\n",
    "day = [\n",
    "    '1/1/2017',\n",
    "    '1/5/2017',\n",
    "    '1/6/2017',\n",
    "    '1/7/2017',\n",
    "    '1/8/2017',\n",
    "    '1/9/2017',\n",
    "    '1/10/2017',\n",
    "    '1/11/2017',\n",
    "    '1/12/2017',\n",
    "    '1/13/2017',\n",
    "    '1/14/2017',\n",
    "    '1/15/2017',\n",
    "    '1/16/2017',\n",
    "    '1/17/2017',\n",
    "    '1/18/2017',\n",
    "    '1/19/2017',\n",
    "    '1/20/2017',\n",
    "    # '1/21/2017',\n",
    "    # '1/22/2017',\n",
    "    # '1/23/2017',\n",
    "    # '1/24/2017',\n",
    "    # '1/25/2017',\n",
    "    # '1/26/2017',\n",
    "    # '1/27/2017',\n",
    "    # '1/28/2017',\n",
    "    # '1/29/2017',\n",
    "    # '1/30/2017',\n",
    "]\n",
    "temperature = [23, n, 23, n, 28, n, 23, 28, 27, n, n, 23, 22, 27, n, n, 23]"
   ],
   "outputs": [],
   "metadata": {}
  },
  {
   "cell_type": "code",
   "execution_count": 70,
   "source": [
    "data = pd.DataFrame({ 'Day': day, 'Temperature': temperature})"
   ],
   "outputs": [],
   "metadata": {}
  },
  {
   "cell_type": "code",
   "execution_count": 71,
   "source": [
    "data.head()"
   ],
   "outputs": [
    {
     "output_type": "execute_result",
     "data": {
      "text/plain": [
       "        Day  Temperature\n",
       "0  1/1/2017         23.0\n",
       "1  1/5/2017          NaN\n",
       "2  1/6/2017         23.0\n",
       "3  1/7/2017          NaN\n",
       "4  1/8/2017         28.0"
      ],
      "text/html": [
       "<div>\n",
       "<style scoped>\n",
       "    .dataframe tbody tr th:only-of-type {\n",
       "        vertical-align: middle;\n",
       "    }\n",
       "\n",
       "    .dataframe tbody tr th {\n",
       "        vertical-align: top;\n",
       "    }\n",
       "\n",
       "    .dataframe thead th {\n",
       "        text-align: right;\n",
       "    }\n",
       "</style>\n",
       "<table border=\"1\" class=\"dataframe\">\n",
       "  <thead>\n",
       "    <tr style=\"text-align: right;\">\n",
       "      <th></th>\n",
       "      <th>Day</th>\n",
       "      <th>Temperature</th>\n",
       "    </tr>\n",
       "  </thead>\n",
       "  <tbody>\n",
       "    <tr>\n",
       "      <th>0</th>\n",
       "      <td>1/1/2017</td>\n",
       "      <td>23.0</td>\n",
       "    </tr>\n",
       "    <tr>\n",
       "      <th>1</th>\n",
       "      <td>1/5/2017</td>\n",
       "      <td>NaN</td>\n",
       "    </tr>\n",
       "    <tr>\n",
       "      <th>2</th>\n",
       "      <td>1/6/2017</td>\n",
       "      <td>23.0</td>\n",
       "    </tr>\n",
       "    <tr>\n",
       "      <th>3</th>\n",
       "      <td>1/7/2017</td>\n",
       "      <td>NaN</td>\n",
       "    </tr>\n",
       "    <tr>\n",
       "      <th>4</th>\n",
       "      <td>1/8/2017</td>\n",
       "      <td>28.0</td>\n",
       "    </tr>\n",
       "  </tbody>\n",
       "</table>\n",
       "</div>"
      ]
     },
     "metadata": {},
     "execution_count": 71
    }
   ],
   "metadata": {}
  },
  {
   "cell_type": "code",
   "execution_count": 72,
   "source": [
    "data.dtypes"
   ],
   "outputs": [
    {
     "output_type": "execute_result",
     "data": {
      "text/plain": [
       "Day             object\n",
       "Temperature    float64\n",
       "dtype: object"
      ]
     },
     "metadata": {},
     "execution_count": 72
    }
   ],
   "metadata": {}
  },
  {
   "cell_type": "code",
   "execution_count": 73,
   "source": [
    "data['Day'] = pd.to_datetime(data.Day)"
   ],
   "outputs": [],
   "metadata": {}
  },
  {
   "cell_type": "code",
   "execution_count": 74,
   "source": [
    "data.dtypes"
   ],
   "outputs": [
    {
     "output_type": "execute_result",
     "data": {
      "text/plain": [
       "Day            datetime64[ns]\n",
       "Temperature           float64\n",
       "dtype: object"
      ]
     },
     "metadata": {},
     "execution_count": 74
    }
   ],
   "metadata": {}
  },
  {
   "cell_type": "code",
   "execution_count": 75,
   "source": [
    "data.set_index(data.Day, inplace=True)"
   ],
   "outputs": [],
   "metadata": {}
  },
  {
   "cell_type": "code",
   "execution_count": 76,
   "source": [
    "data.drop('Day', axis=1)"
   ],
   "outputs": [
    {
     "output_type": "execute_result",
     "data": {
      "text/plain": [
       "            Temperature\n",
       "Day                    \n",
       "2017-01-01         23.0\n",
       "2017-01-05          NaN\n",
       "2017-01-06         23.0\n",
       "2017-01-07          NaN\n",
       "2017-01-08         28.0\n",
       "2017-01-09          NaN\n",
       "2017-01-10         23.0\n",
       "2017-01-11         28.0\n",
       "2017-01-12         27.0\n",
       "2017-01-13          NaN\n",
       "2017-01-14          NaN\n",
       "2017-01-15         23.0\n",
       "2017-01-16         22.0\n",
       "2017-01-17         27.0\n",
       "2017-01-18          NaN\n",
       "2017-01-19          NaN\n",
       "2017-01-20         23.0"
      ],
      "text/html": [
       "<div>\n",
       "<style scoped>\n",
       "    .dataframe tbody tr th:only-of-type {\n",
       "        vertical-align: middle;\n",
       "    }\n",
       "\n",
       "    .dataframe tbody tr th {\n",
       "        vertical-align: top;\n",
       "    }\n",
       "\n",
       "    .dataframe thead th {\n",
       "        text-align: right;\n",
       "    }\n",
       "</style>\n",
       "<table border=\"1\" class=\"dataframe\">\n",
       "  <thead>\n",
       "    <tr style=\"text-align: right;\">\n",
       "      <th></th>\n",
       "      <th>Temperature</th>\n",
       "    </tr>\n",
       "    <tr>\n",
       "      <th>Day</th>\n",
       "      <th></th>\n",
       "    </tr>\n",
       "  </thead>\n",
       "  <tbody>\n",
       "    <tr>\n",
       "      <th>2017-01-01</th>\n",
       "      <td>23.0</td>\n",
       "    </tr>\n",
       "    <tr>\n",
       "      <th>2017-01-05</th>\n",
       "      <td>NaN</td>\n",
       "    </tr>\n",
       "    <tr>\n",
       "      <th>2017-01-06</th>\n",
       "      <td>23.0</td>\n",
       "    </tr>\n",
       "    <tr>\n",
       "      <th>2017-01-07</th>\n",
       "      <td>NaN</td>\n",
       "    </tr>\n",
       "    <tr>\n",
       "      <th>2017-01-08</th>\n",
       "      <td>28.0</td>\n",
       "    </tr>\n",
       "    <tr>\n",
       "      <th>2017-01-09</th>\n",
       "      <td>NaN</td>\n",
       "    </tr>\n",
       "    <tr>\n",
       "      <th>2017-01-10</th>\n",
       "      <td>23.0</td>\n",
       "    </tr>\n",
       "    <tr>\n",
       "      <th>2017-01-11</th>\n",
       "      <td>28.0</td>\n",
       "    </tr>\n",
       "    <tr>\n",
       "      <th>2017-01-12</th>\n",
       "      <td>27.0</td>\n",
       "    </tr>\n",
       "    <tr>\n",
       "      <th>2017-01-13</th>\n",
       "      <td>NaN</td>\n",
       "    </tr>\n",
       "    <tr>\n",
       "      <th>2017-01-14</th>\n",
       "      <td>NaN</td>\n",
       "    </tr>\n",
       "    <tr>\n",
       "      <th>2017-01-15</th>\n",
       "      <td>23.0</td>\n",
       "    </tr>\n",
       "    <tr>\n",
       "      <th>2017-01-16</th>\n",
       "      <td>22.0</td>\n",
       "    </tr>\n",
       "    <tr>\n",
       "      <th>2017-01-17</th>\n",
       "      <td>27.0</td>\n",
       "    </tr>\n",
       "    <tr>\n",
       "      <th>2017-01-18</th>\n",
       "      <td>NaN</td>\n",
       "    </tr>\n",
       "    <tr>\n",
       "      <th>2017-01-19</th>\n",
       "      <td>NaN</td>\n",
       "    </tr>\n",
       "    <tr>\n",
       "      <th>2017-01-20</th>\n",
       "      <td>23.0</td>\n",
       "    </tr>\n",
       "  </tbody>\n",
       "</table>\n",
       "</div>"
      ]
     },
     "metadata": {},
     "execution_count": 76
    }
   ],
   "metadata": {}
  },
  {
   "cell_type": "code",
   "execution_count": 77,
   "source": [
    "\"\"\"\n",
    "DEPRECATED\n",
    "data.interpolate(method='cubic')\n",
    "data.interpolate(method='cubic')\n",
    "\"\"\"\n",
    "data['Temperature'].interpolate(method='quadratic')"
   ],
   "outputs": [
    {
     "output_type": "execute_result",
     "data": {
      "text/plain": [
       "Day\n",
       "2017-01-01    23.000000\n",
       "2017-01-05    20.692356\n",
       "2017-01-06    23.000000\n",
       "2017-01-07    26.461467\n",
       "2017-01-08    28.000000\n",
       "2017-01-09    24.538845\n",
       "2017-01-10    23.000000\n",
       "2017-01-11    28.000000\n",
       "2017-01-12    27.000000\n",
       "2017-01-13    25.458094\n",
       "2017-01-14    24.487059\n",
       "2017-01-15    23.000000\n",
       "2017-01-16    22.000000\n",
       "2017-01-17    27.000000\n",
       "2017-01-18    29.629556\n",
       "2017-01-19    28.296223\n",
       "2017-01-20    23.000000\n",
       "Name: Temperature, dtype: float64"
      ]
     },
     "metadata": {},
     "execution_count": 77
    }
   ],
   "metadata": {}
  },
  {
   "cell_type": "code",
   "execution_count": 78,
   "source": [
    "data['Temperature'].interpolate(method='cubic')"
   ],
   "outputs": [
    {
     "output_type": "execute_result",
     "data": {
      "text/plain": [
       "Day\n",
       "2017-01-01    23.000000\n",
       "2017-01-05    16.921832\n",
       "2017-01-06    23.000000\n",
       "2017-01-07    27.467655\n",
       "2017-01-08    28.000000\n",
       "2017-01-09    24.152290\n",
       "2017-01-10    23.000000\n",
       "2017-01-11    28.000000\n",
       "2017-01-12    27.000000\n",
       "2017-01-13    25.318678\n",
       "2017-01-14    24.371087\n",
       "2017-01-15    23.000000\n",
       "2017-01-16    22.000000\n",
       "2017-01-17    27.000000\n",
       "2017-01-18    33.689156\n",
       "2017-01-19    34.783734\n",
       "2017-01-20    23.000000\n",
       "Name: Temperature, dtype: float64"
      ]
     },
     "metadata": {},
     "execution_count": 78
    }
   ],
   "metadata": {}
  },
  {
   "cell_type": "code",
   "execution_count": 85,
   "source": [
    "data['Temperature'].interpolate(method='time')"
   ],
   "outputs": [
    {
     "output_type": "execute_result",
     "data": {
      "text/plain": [
       "Day\n",
       "2017-01-01    23.000000\n",
       "2017-01-05    23.000000\n",
       "2017-01-06    23.000000\n",
       "2017-01-07    25.500000\n",
       "2017-01-08    28.000000\n",
       "2017-01-09    25.500000\n",
       "2017-01-10    23.000000\n",
       "2017-01-11    28.000000\n",
       "2017-01-12    27.000000\n",
       "2017-01-13    25.666667\n",
       "2017-01-14    24.333333\n",
       "2017-01-15    23.000000\n",
       "2017-01-16    22.000000\n",
       "2017-01-17    27.000000\n",
       "2017-01-18    25.666667\n",
       "2017-01-19    24.333333\n",
       "2017-01-20    23.000000\n",
       "Name: Temperature, dtype: float64"
      ]
     },
     "metadata": {},
     "execution_count": 85
    }
   ],
   "metadata": {}
  },
  {
   "cell_type": "code",
   "execution_count": null,
   "source": [],
   "outputs": [],
   "metadata": {}
  }
 ],
 "metadata": {
  "orig_nbformat": 4,
  "language_info": {
   "name": "python",
   "version": "3.9.5",
   "mimetype": "text/x-python",
   "codemirror_mode": {
    "name": "ipython",
    "version": 3
   },
   "pygments_lexer": "ipython3",
   "nbconvert_exporter": "python",
   "file_extension": ".py"
  },
  "kernelspec": {
   "name": "python3",
   "display_name": "Python 3.9.5 64-bit ('.conda_env': conda)"
  },
  "interpreter": {
   "hash": "8ec323bf63724545ac605fde6698154ea1ec44f3bd902a0f855c583e0db402db"
  }
 },
 "nbformat": 4,
 "nbformat_minor": 2
}